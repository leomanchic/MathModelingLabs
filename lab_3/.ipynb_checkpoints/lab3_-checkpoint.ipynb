{
 "cells": [
  {
   "cell_type": "code",
   "execution_count": null,
   "id": "c0372142-9757-4dbf-885d-c2b8f4ac00aa",
   "metadata": {},
   "outputs": [],
   "source": [
    "import numpy as np\n",
    "import matplotlib.pyplot as plt\n",
    "from matplotlib.colors import ListedColormap\n",
    "from enum import Enum\n",
    "import matplotlib.animation as animation"
   ]
  },
  {
   "cell_type": "code",
   "execution_count": null,
   "id": "84772c2c-6044-425c-8e8a-dcc68345bbe5",
   "metadata": {},
   "outputs": [],
   "source": [
    "# --- параметры ---\n",
    "N = 100              \n",
    "fps = 30             \n",
    "interval = 100       \n",
    "steps = 200         \n",
    "\n",
    "# --- начальная конфигурация ---\n",
    "# 0 = синий, 1 = красный\n",
    "grid = np.random.choice([0, 1], size=(N, N))\n",
    "\n",
    "\n",
    "rule = np.array([0, 0, 0, 0, 1, 0, 1, 1, 1])\n",
    "\n",
    "def update(frame):\n",
    "    global grid\n",
    "    new_grid = grid.copy()\n",
    "    \n",
    "    for i in range(N):\n",
    "        for j in range(N):\n",
    "            # Считаем соседей (с учётом границ, тороидальная топология)\n",
    "            neighbors = 0\n",
    "            for di in [-1, 0, 1]:\n",
    "                for dj in [-1, 0, 1]:\n",
    "                    if di == 0 and dj == 0:\n",
    "                        continue\n",
    "                    ni = (i + di) % N\n",
    "                    nj = (j + dj) % N\n",
    "                    if grid[ni, nj] != grid[i, j]:\n",
    "                        neighbors += 1\n",
    "            # Применяем правило\n",
    "            if rule[neighbors] == 1:\n",
    "                new_grid[i, j] = 1 - grid[i, j]  # смена цвета\n",
    "            else:\n",
    "                new_grid[i, j] = grid[i, j]      # оставить цвет\n",
    "    \n",
    "    grid = new_grid\n",
    "    mat.set_data(grid)\n",
    "    return [mat]\n",
    "\n",
    "# --- анимация ---\n",
    "fig, ax = plt.subplots()\n",
    "# цветовая карта: синий = 0, красный = 1\n",
    "cmap = plt.cm.colors.ListedColormap([\"blue\", \"red\"])\n",
    "mat = ax.matshow(grid, cmap=cmap)\n",
    "\n",
    "ani = animation.FuncAnimation(\n",
    "    fig, update, frames=steps, interval=interval, blit=True\n",
    ")\n",
    "\n",
    "plt.show()"
   ]
  },
  {
   "cell_type": "code",
   "execution_count": null,
   "id": "0451b3bf-78f3-48fc-b07e-6e3234c327a8",
   "metadata": {},
   "outputs": [],
   "source": [
    "from IPython.display import HTML\n",
    "HTML(ani.to_jshtml())"
   ]
  },
  {
   "cell_type": "code",
   "execution_count": null,
   "id": "c889c7ef-d39b-47fd-839a-4eb775ecb810",
   "metadata": {},
   "outputs": [],
   "source": []
  },
  {
   "cell_type": "code",
   "execution_count": null,
   "id": "18313a2a-f32b-4ba7-9343-8f44deb9aff9",
   "metadata": {},
   "outputs": [],
   "source": []
  },
  {
   "cell_type": "code",
   "execution_count": null,
   "id": "e8851562-fb4e-44bd-827e-9236bc61288c",
   "metadata": {},
   "outputs": [],
   "source": []
  },
  {
   "cell_type": "code",
   "execution_count": null,
   "id": "5de2eeef-9829-41c9-9a4a-8ad52f548c38",
   "metadata": {},
   "outputs": [],
   "source": []
  },
  {
   "cell_type": "code",
   "execution_count": null,
   "id": "01a29253-a821-4906-b1b1-e20b18860293",
   "metadata": {},
   "outputs": [],
   "source": []
  },
  {
   "cell_type": "code",
   "execution_count": null,
   "id": "c9da50fd-4f87-4e7f-9d64-527e724e8cc5",
   "metadata": {},
   "outputs": [],
   "source": []
  },
  {
   "cell_type": "code",
   "execution_count": null,
   "id": "623b60a8-0198-4f87-93cb-f36c7dba0f99",
   "metadata": {},
   "outputs": [],
   "source": []
  },
  {
   "cell_type": "code",
   "execution_count": null,
   "id": "709a50b2-9108-4dad-8402-40201525bc61",
   "metadata": {},
   "outputs": [],
   "source": []
  },
  {
   "cell_type": "code",
   "execution_count": null,
   "id": "43cb6582-033b-4e7e-9d23-1fb6680c9696",
   "metadata": {},
   "outputs": [],
   "source": []
  },
  {
   "cell_type": "code",
   "execution_count": null,
   "id": "72da9e51-a247-49e2-a22f-0550b848cb9e",
   "metadata": {},
   "outputs": [],
   "source": []
  },
  {
   "cell_type": "code",
   "execution_count": null,
   "id": "0f6e77da-e9b5-4a14-9c13-95ae5eed57a5",
   "metadata": {},
   "outputs": [],
   "source": []
  },
  {
   "cell_type": "code",
   "execution_count": null,
   "id": "3edb76f6-a7df-4092-b1a5-98ee10b381ff",
   "metadata": {},
   "outputs": [],
   "source": []
  }
 ],
 "metadata": {
  "kernelspec": {
   "display_name": "Python 3 (ipykernel)",
   "language": "python",
   "name": "python3"
  },
  "language_info": {
   "codemirror_mode": {
    "name": "ipython",
    "version": 3
   },
   "file_extension": ".py",
   "mimetype": "text/x-python",
   "name": "python",
   "nbconvert_exporter": "python",
   "pygments_lexer": "ipython3",
   "version": "3.13.5"
  }
 },
 "nbformat": 4,
 "nbformat_minor": 5
}
